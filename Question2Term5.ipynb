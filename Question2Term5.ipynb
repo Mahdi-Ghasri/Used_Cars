{
  "nbformat": 4,
  "nbformat_minor": 0,
  "metadata": {
    "colab": {
      "provenance": []
    },
    "kernelspec": {
      "name": "python3",
      "display_name": "Python 3"
    },
    "language_info": {
      "name": "python"
    }
  },
  "cells": [
    {
      "cell_type": "markdown",
      "source": [
        "# دیتاست خودروهای کارکرده\n",
        "---\n",
        "* name - نام خودرو\n",
        "* year - سال تولید\n",
        "* selling_price - قیمت فروش\n",
        "* km_driven - کیلومتر طی‌شده\n",
        "* fuel - نوع سوخت\n",
        "* seller_type - نوع فروشنده\n",
        "* transmission - نوع گیربکس\n",
        "* owner - تعداد مالکین\n",
        "* mileage - مصرف سوخت (کیلومتر بر لیتر)\n",
        "* engine - حجم موتور (سی‌سی)\n",
        "* max_power - قدرت موتور (اسب بخار)\n",
        "* torque - گشتاور (نیوتون متر)\n",
        "* seats - تعداد صندلی‌ها"
      ],
      "metadata": {
        "id": "NV0d_YHT15As"
      }
    },
    {
      "cell_type": "code",
      "execution_count": null,
      "metadata": {
        "id": "EN68wJQjy0bg"
      },
      "outputs": [],
      "source": [
        "from google.colab import drive\n",
        "drive.mount('/content/drive/')"
      ]
    },
    {
      "cell_type": "code",
      "source": [
        "from datetime import datetime\n",
        "import re\n",
        "import numpy as np\n",
        "import pandas as pd\n",
        "import matplotlib.pyplot as plt\n",
        "import seaborn as sns\n",
        "from sklearn.preprocessing import LabelEncoder,StandardScaler,PolynomialFeatures\n",
        "from sklearn.model_selection import train_test_split\n",
        "from sklearn.linear_model import LinearRegression,Ridge,Lasso,ElasticNet\n",
        "from sklearn.metrics import mean_squared_error, r2_score\n",
        "from sklearn.pipeline import make_pipeline\n",
        "%matplotlib inline"
      ],
      "metadata": {
        "id": "8wPfh1uwzxJH"
      },
      "execution_count": null,
      "outputs": []
    },
    {
      "cell_type": "code",
      "source": [
        "import warnings\n",
        "warnings.filterwarnings('ignore')"
      ],
      "metadata": {
        "id": "-Sm_Lv76zn9G"
      },
      "execution_count": null,
      "outputs": []
    },
    {
      "cell_type": "code",
      "source": [
        "df = pd.read_csv('/content/drive/MyDrive/datasets/used_cars.csv')\n",
        "df.head()"
      ],
      "metadata": {
        "id": "Bzo9fIwtzybR"
      },
      "execution_count": null,
      "outputs": []
    },
    {
      "cell_type": "markdown",
      "source": [
        "### Exploration of the dataset"
      ],
      "metadata": {
        "id": "c373ZkeW0W5i"
      }
    },
    {
      "cell_type": "code",
      "source": [
        "df.shape\n",
        "df.columns\n",
        "df.dtypes\n",
        "df.info()\n",
        "df.describe()\n",
        "df.describe(exclude=[np.number])\n",
        "df.nunique()\n",
        "df['fuel'].value_counts()\n",
        "df['seller_type'].value_counts()\n",
        "df['transmission'].value_counts()\n",
        "df['owner'].value_counts()\n",
        "df['seats'].value_counts()\n",
        "df.isnull().sum()\n",
        "df.duplicated().sum()"
      ],
      "metadata": {
        "id": "N3uXIS-20X7F"
      },
      "execution_count": null,
      "outputs": []
    },
    {
      "cell_type": "markdown",
      "source": [
        "### Preprocessing Dataset"
      ],
      "metadata": {
        "id": "aNbFkmymwrhg"
      }
    },
    {
      "cell_type": "code",
      "source": [
        "df=df.drop_duplicates()\n",
        "df.duplicated().sum()"
      ],
      "metadata": {
        "id": "xKRf5lDxv6OQ"
      },
      "execution_count": null,
      "outputs": []
    },
    {
      "cell_type": "code",
      "source": [
        "df.shape"
      ],
      "metadata": {
        "id": "xBXfKdaxytEp"
      },
      "execution_count": null,
      "outputs": []
    },
    {
      "cell_type": "code",
      "source": [
        "df['mileage'] = df['mileage'].str.extract('(\\d+\\.\\d+|\\d+)').astype(float)\n",
        "df['engine'] = df['engine'].str.extract('(\\d+\\.\\d+|\\d+)').astype(float)\n",
        "df['max_power'] = df['max_power'].str.extract('(\\d+\\.\\d+|\\d+)').astype(float)\n",
        "df.head()"
      ],
      "metadata": {
        "id": "jr96rsk2fkqf"
      },
      "execution_count": null,
      "outputs": []
    },
    {
      "cell_type": "code",
      "source": [
        "df.dtypes"
      ],
      "metadata": {
        "id": "zn3LjfcSzUT2"
      },
      "execution_count": null,
      "outputs": []
    },
    {
      "cell_type": "code",
      "source": [
        "df['mileage'].fillna(df['mileage'].mean(), inplace=True)\n",
        "df['engine'].fillna(df['engine'].mean(), inplace=True)\n",
        "df['max_power'].fillna(df['max_power'].mean(), inplace=True)\n",
        "df['seats'].fillna(df['seats'].median(), inplace=True)\n",
        "df.isnull().sum()"
      ],
      "metadata": {
        "id": "HGaSqPhUiamD"
      },
      "execution_count": null,
      "outputs": []
    },
    {
      "cell_type": "code",
      "source": [
        "nm_to_kgm = 0.10197\n",
        "def convert_torque(value):\n",
        "    if isinstance(value, str):\n",
        "        match = re.search(r'\\d+(\\.\\d+)?', value)\n",
        "        if match:\n",
        "            number = float(match.group())\n",
        "            if 'nm' in value.lower():\n",
        "                number_converted = number * nm_to_kgm\n",
        "                return f\"{number_converted:.2f}\"\n",
        "            elif 'kgm' in value.lower():\n",
        "                return f\"{number:.2f}\"\n",
        "    return np.nan\n",
        "\n",
        "df['torque'] = df['torque'].apply(convert_torque).astype(float)\n",
        "df.head()"
      ],
      "metadata": {
        "id": "WWtwrSQvtONU"
      },
      "execution_count": null,
      "outputs": []
    },
    {
      "cell_type": "code",
      "source": [
        "df.isnull().sum()"
      ],
      "metadata": {
        "id": "ER57LafjMMbc"
      },
      "execution_count": null,
      "outputs": []
    },
    {
      "cell_type": "code",
      "source": [
        "df['torque'].fillna(df['torque'].mode()[0], inplace=True)\n",
        "df.isnull().sum()"
      ],
      "metadata": {
        "id": "CXeA1QKvMKVJ"
      },
      "execution_count": null,
      "outputs": []
    },
    {
      "cell_type": "code",
      "source": [
        "def yearTransform(year):\n",
        "    return datetime.now().year - year\n",
        "\n",
        "df[\"year\"] = df[\"year\"].apply(yearTransform)\n",
        "df.head()"
      ],
      "metadata": {
        "id": "oaY-yB0olrOP"
      },
      "execution_count": null,
      "outputs": []
    },
    {
      "cell_type": "code",
      "source": [
        "df=df.drop([\"name\"],axis=1)\n",
        "df.head()"
      ],
      "metadata": {
        "id": "KHVLHonYyoFW"
      },
      "execution_count": null,
      "outputs": []
    },
    {
      "cell_type": "code",
      "source": [
        "categorical_columns = [\"fuel\",\"seller_type\",\"transmission\",\"owner\",\"seats\"]\n",
        "labelencoder = LabelEncoder()\n",
        "for col in categorical_columns:\n",
        "    df[col] = labelencoder.fit_transform(df[col])\n",
        "df.head()"
      ],
      "metadata": {
        "id": "mJbtaEmHyAuW"
      },
      "execution_count": null,
      "outputs": []
    },
    {
      "cell_type": "code",
      "source": [
        "plt.figure(figsize=(15, 10))\n",
        "sns.boxplot(data=df)\n",
        "plt.xticks(rotation=90)\n",
        "plt.title('Boxplot for All Features')\n",
        "plt.show()"
      ],
      "metadata": {
        "id": "SBSZe4tTFQOf"
      },
      "execution_count": null,
      "outputs": []
    },
    {
      "cell_type": "code",
      "source": [
        "threshold=2\n",
        "def find_outliers(column):\n",
        "    Q1 = column.quantile(0.25)\n",
        "    Q3 = column.quantile(0.75)\n",
        "    IQR = Q3 - Q1\n",
        "    lower_bound = Q1 - threshold * IQR\n",
        "    upper_bound = Q3 + threshold * IQR\n",
        "    return column[(column < lower_bound) | ( upper_bound < column)]"
      ],
      "metadata": {
        "id": "AKgCVPB5EinT"
      },
      "execution_count": null,
      "outputs": []
    },
    {
      "cell_type": "code",
      "source": [
        "for i, column in enumerate(df.columns):\n",
        "    outliers = find_outliers(df[column])\n",
        "    if(outliers.size>0):\n",
        "      print(f\"outliers - {column} :\\n{outliers.size}\")"
      ],
      "metadata": {
        "id": "gcLCwuoZ8Dmn"
      },
      "execution_count": null,
      "outputs": []
    },
    {
      "cell_type": "code",
      "source": [
        "def remove_outliers(df):\n",
        "    Q1 = df.quantile(0.25)\n",
        "    Q3 = df.quantile(0.75)\n",
        "    IQR = Q3 - Q1\n",
        "    lower_bound = Q1 - threshold * IQR\n",
        "    upper_bound = Q3 + threshold * IQR\n",
        "    df_cleaned = df[~((df < lower_bound) | (df > upper_bound)).any(axis=1)]\n",
        "    return df_cleaned"
      ],
      "metadata": {
        "id": "0vA5I9knOiOZ"
      },
      "execution_count": null,
      "outputs": []
    },
    {
      "cell_type": "code",
      "source": [
        "df = remove_outliers(df)"
      ],
      "metadata": {
        "id": "kXrOpV49Jtc0"
      },
      "execution_count": null,
      "outputs": []
    },
    {
      "cell_type": "code",
      "source": [
        "for i, column in enumerate(df.columns):\n",
        "    outliers = find_outliers(df[column])\n",
        "    if(outliers.size>0):\n",
        "      print(f\"outliers - {column} :\\n{outliers.size}\")"
      ],
      "metadata": {
        "id": "6ZywI-X8Oxly"
      },
      "execution_count": null,
      "outputs": []
    },
    {
      "cell_type": "code",
      "source": [
        "plt.figure(figsize=(15, 10))\n",
        "sns.boxplot(data=df)\n",
        "plt.xticks(rotation=90)\n",
        "plt.title('Boxplot for All Features')\n",
        "plt.show()"
      ],
      "metadata": {
        "id": "w0nLSaVz5Gtc"
      },
      "execution_count": null,
      "outputs": []
    },
    {
      "cell_type": "code",
      "source": [
        "plt.figure(figsize=(10, 6))\n",
        "df['selling_price'].plot(kind='hist', bins=30, color='skyblue', edgecolor='black')\n",
        "plt.title('Distribution of Selling Prices')\n",
        "plt.xlabel('Selling Price')\n",
        "plt.ylabel('Frequency')\n",
        "plt.grid(True)\n",
        "plt.show()\n",
        "\n",
        "\n",
        "plt.figure(figsize=(10, 6))\n",
        "plt.scatter(df['year'], df['selling_price'], alpha=0.5)\n",
        "plt.title('Year vs Selling Price')\n",
        "plt.xlabel('Year')\n",
        "plt.ylabel('Selling Price')\n",
        "plt.grid(True)\n",
        "plt.show()\n",
        "\n",
        "\n",
        "plt.figure(figsize=(10, 6))\n",
        "plt.scatter(df['engine'], df['max_power'], alpha=0.5, color='orange')\n",
        "plt.title('Engine Size vs Max Power')\n",
        "plt.xlabel('Engine Size (CC)')\n",
        "plt.ylabel('Max Power (BHP)')\n",
        "plt.grid(True)\n",
        "plt.show()"
      ],
      "metadata": {
        "id": "zaQki6mWy4NQ"
      },
      "execution_count": null,
      "outputs": []
    },
    {
      "cell_type": "code",
      "source": [
        "X=df.drop([\"selling_price\"],axis=1)\n",
        "y=df[\"selling_price\"]"
      ],
      "metadata": {
        "id": "W04ElYUA0mQJ"
      },
      "execution_count": null,
      "outputs": []
    },
    {
      "cell_type": "code",
      "source": [
        "X_train, X_test, y_train, y_test = train_test_split(X, y, test_size=0.2, random_state=42)\n",
        "X_train.shape , X_test.shape , y_train.shape , y_test.shape"
      ],
      "metadata": {
        "id": "qqC-gqGp1QfB"
      },
      "execution_count": null,
      "outputs": []
    },
    {
      "cell_type": "code",
      "source": [
        "scaler = StandardScaler()\n",
        "X_train = scaler.fit_transform(X_train)\n",
        "X_test=scaler.transform(X_test)\n",
        "X_train , X_test"
      ],
      "metadata": {
        "id": "SBxiHVJG1Ff2"
      },
      "execution_count": null,
      "outputs": []
    },
    {
      "cell_type": "code",
      "source": [
        "X_train = pd.DataFrame(X_train, columns=['year', 'km_driven', 'fuel', 'seller_type',\n",
        "                                         'transmission', 'owner', 'mileage',\n",
        "                                         'engine', 'max_power', 'torque', 'seats'])\n",
        "\n",
        "X_test = pd.DataFrame(X_test, columns=['year', 'km_driven', 'fuel', 'seller_type',\n",
        "                                         'transmission', 'owner', 'mileage',\n",
        "                                         'engine', 'max_power', 'torque', 'seats'])\n"
      ],
      "metadata": {
        "id": "RlJfbIqh4Iyx"
      },
      "execution_count": null,
      "outputs": []
    },
    {
      "cell_type": "markdown",
      "source": [
        "#### Single LinearRegression"
      ],
      "metadata": {
        "id": "wRTOJEZO3WNZ"
      }
    },
    {
      "cell_type": "code",
      "source": [
        "X_train_single = X_train[['mileage']]\n",
        "X_test_single = X_test[['mileage']]\n",
        "model_single = LinearRegression()\n",
        "model_single.fit(X_train_single, y_train)\n",
        "y_pred_single = model_single.predict(X_test_single)\n",
        "\n",
        "mse_single = mean_squared_error(y_test, y_pred_single)\n",
        "r2_single = r2_score(y_test, y_pred_single)\n",
        "print(f\"Mean Squared Error : {mse_single}\")\n",
        "print(f\"R-squared : {r2_single}\")\n",
        "\n",
        "plt.scatter(X_test_single, y_test, color='blue', label='Actual')\n",
        "plt.plot(X_test_single, y_pred_single, color='red', label='Predicted')\n",
        "plt.xlabel('Engine Size')\n",
        "plt.ylabel('Selling Price')\n",
        "plt.legend()\n",
        "plt.show()"
      ],
      "metadata": {
        "id": "zYHMJjLI3Ynp"
      },
      "execution_count": null,
      "outputs": []
    },
    {
      "cell_type": "code",
      "source": [
        "model_multi = LinearRegression()\n",
        "model_multi.fit(X_train, y_train)\n",
        "y_pred_multi = model_multi.predict(X_test)\n",
        "\n",
        "mse_multi = mean_squared_error(y_test, y_pred_multi)\n",
        "r2_multi = r2_score(y_test, y_pred_multi)\n",
        "print(f\"Mean Squared Error : {mse_multi}\")\n",
        "print(f\"R-squared : {r2_multi}\")"
      ],
      "metadata": {
        "id": "t79tOz-8LlGa"
      },
      "execution_count": null,
      "outputs": []
    },
    {
      "cell_type": "code",
      "source": [
        "degree = 3\n",
        "model_poly = make_pipeline(PolynomialFeatures(degree), LinearRegression())\n",
        "model_poly.fit(X_train, y_train)\n",
        "y_pred_poly = model_poly.predict(X_test)\n",
        "\n",
        "mse_poly = mean_squared_error(y_test, y_pred_poly)\n",
        "r2_poly = r2_score(y_test, y_pred_poly)\n",
        "print(f\"Mean Squared Error : {mse_poly}\")\n",
        "print(f\"R-squared : {r2_poly}\")"
      ],
      "metadata": {
        "id": "EJcIkDxkM_8F"
      },
      "execution_count": null,
      "outputs": []
    },
    {
      "cell_type": "code",
      "source": [
        "model_ridge = Ridge(alpha=1.0)\n",
        "model_ridge.fit(X_train, y_train)\n",
        "y_pred_ridge = model_ridge.predict(X_test)\n",
        "\n",
        "mse_ridge = mean_squared_error(y_test, y_pred_ridge)\n",
        "r2_ridge = r2_score(y_test, y_pred_ridge)\n",
        "print(f\"Mean Squared Error : {mse_ridge}\")\n",
        "print(f\"R-squared : {r2_ridge}\")"
      ],
      "metadata": {
        "id": "-f-5_1m2NQ3q"
      },
      "execution_count": null,
      "outputs": []
    },
    {
      "cell_type": "code",
      "source": [
        "model_lasso = Lasso(alpha=0.1)\n",
        "model_lasso.fit(X_train, y_train)\n",
        "y_pred_lasso = model_lasso.predict(X_test)\n",
        "\n",
        "mse_lasso = mean_squared_error(y_test, y_pred_lasso)\n",
        "r2_lasso = r2_score(y_test, y_pred_lasso)\n",
        "print(f\"Mean Squared Error : {mse_lasso}\")\n",
        "print(f\"R-squared : {r2_lasso}\")"
      ],
      "metadata": {
        "id": "mjmucTB7Nh5w"
      },
      "execution_count": null,
      "outputs": []
    },
    {
      "cell_type": "code",
      "source": [
        "model_elastic = ElasticNet(alpha=0.1, l1_ratio=0.5)\n",
        "model_elastic.fit(X_train, y_train)\n",
        "y_pred_elastic = model_elastic.predict(X_test)\n",
        "\n",
        "mse_elastic = mean_squared_error(y_test, y_pred_elastic)\n",
        "r2_elastic = r2_score(y_test, y_pred_elastic)\n",
        "print(f\"Mean Squared Error : {mse_elastic}\")\n",
        "print(f\"R-squared : {r2_elastic}\")"
      ],
      "metadata": {
        "id": "r9iCcwWdNtEQ"
      },
      "execution_count": null,
      "outputs": []
    },
    {
      "cell_type": "code",
      "source": [
        "models = ['Single', 'Multi', 'Poly', 'Ridge', 'Lasso', 'ElasticNet']\n",
        "mse_values = [mse_single, mse_multi, mse_poly, mse_ridge, mse_lasso, mse_elastic]\n",
        "r2_values = [r2_single, r2_multi, r2_poly, r2_ridge, r2_lasso, r2_elastic]\n",
        "\n",
        "plt.figure(figsize=(14, 6))\n",
        "plt.subplot(1, 2, 1)\n",
        "plt.bar(models, mse_values, color='skyblue')\n",
        "plt.title('MSE for Different Regression Models')\n",
        "plt.ylabel('Mean Squared Error')\n",
        "plt.xlabel('Models')\n",
        "\n",
        "plt.subplot(1, 2, 2)\n",
        "plt.bar(models, r2_values, color='lightgreen')\n",
        "plt.title('R2 Score for Different Regression Models')\n",
        "plt.ylabel('R2 Score')\n",
        "plt.xlabel('Models')\n",
        "\n",
        "plt.tight_layout()\n",
        "plt.show()"
      ],
      "metadata": {
        "id": "GE9TA4clpyA8"
      },
      "execution_count": null,
      "outputs": []
    }
  ]
}